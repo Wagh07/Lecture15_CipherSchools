{
  "nbformat": 4,
  "nbformat_minor": 0,
  "metadata": {
    "colab": {
      "provenance": []
    },
    "kernelspec": {
      "name": "python3",
      "display_name": "Python 3"
    },
    "language_info": {
      "name": "python"
    }
  },
  "cells": [
    {
      "cell_type": "code",
      "source": [
        "# Membership operators ( in , not in) used in For , For ...else\n",
        "\n",
        "\n",
        "lst=[1,2,3,4]\n",
        "\n",
        "print(5 in lst)\n",
        "\n",
        "dict={1:'a',2:'b'}\n",
        "\n",
        "print(dict)"
      ],
      "metadata": {
        "colab": {
          "base_uri": "https://localhost:8080/"
        },
        "id": "61RbXX4Wh3eO",
        "outputId": "2747f031-88ce-4d8f-b5a6-00f029cf447b"
      },
      "execution_count": 43,
      "outputs": [
        {
          "output_type": "stream",
          "name": "stdout",
          "text": [
            "False\n",
            "{1: 'a', 2: 'b'}\n"
          ]
        }
      ]
    },
    {
      "cell_type": "code",
      "source": [
        "\n",
        "# For...else\n",
        "\n",
        "tup=(1,2,3,4,5)\n",
        "prod=1\n",
        "\n",
        "for item in tup:\n",
        "  prod*=item\n",
        "else:\n",
        "    print('You have exhausted the list')\n",
        "\n",
        "\n",
        "print('Product =',format(prod))\n",
        "\n"
      ],
      "metadata": {
        "colab": {
          "base_uri": "https://localhost:8080/"
        },
        "id": "iVqBluOBh3nj",
        "outputId": "43ecbfac-6c01-48bc-b4c2-a15c697ee1d8"
      },
      "execution_count": 56,
      "outputs": [
        {
          "output_type": "stream",
          "name": "stdout",
          "text": [
            "You have exhausted the list\n",
            "Product = 120\n"
          ]
        }
      ]
    },
    {
      "cell_type": "code",
      "source": [
        "\n",
        "# Break\n",
        "\n",
        "for count in range(10):\n",
        "  if count==5:\n",
        "    break\n",
        "  print('the count is: ',count)\n",
        "\n",
        "print('Goodbyee....')\n",
        "\n"
      ],
      "metadata": {
        "colab": {
          "base_uri": "https://localhost:8080/"
        },
        "id": "Ulxsw7QvuqIT",
        "outputId": "77ff4cde-fff7-43ac-be19-44399ee491a1"
      },
      "execution_count": 59,
      "outputs": [
        {
          "output_type": "stream",
          "name": "stdout",
          "text": [
            "the count is:  0\n",
            "the count is:  1\n",
            "the count is:  2\n",
            "the count is:  3\n",
            "the count is:  4\n",
            "Goodbyee....\n"
          ]
        }
      ]
    },
    {
      "cell_type": "code",
      "source": [
        "# Continue\n",
        "\n",
        "for count in range(10):\n",
        "  if count==5:\n",
        "    continue\n",
        "  print('the count is: ',count)\n",
        "\n",
        "print('Goodbyee....')\n"
      ],
      "metadata": {
        "colab": {
          "base_uri": "https://localhost:8080/"
        },
        "id": "HCRfqL0hvLjS",
        "outputId": "729b67ea-867b-4693-98a0-3d1ce47d0763"
      },
      "execution_count": 60,
      "outputs": [
        {
          "output_type": "stream",
          "name": "stdout",
          "text": [
            "the count is:  0\n",
            "the count is:  1\n",
            "the count is:  2\n",
            "the count is:  3\n",
            "the count is:  4\n",
            "the count is:  6\n",
            "the count is:  7\n",
            "the count is:  8\n",
            "the count is:  9\n",
            "Goodbyee....\n"
          ]
        }
      ]
    }
  ]
}